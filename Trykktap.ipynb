{
 "cells": [
  {
   "cell_type": "code",
   "execution_count": 81,
   "metadata": {},
   "outputs": [],
   "source": [
    "import numpy as np\n",
    "import pandas as pd"
   ]
  },
  {
   "cell_type": "code",
   "execution_count": 93,
   "metadata": {},
   "outputs": [
    {
     "name": "stdout",
     "output_type": "stream",
     "text": [
      "     Cooling liquid  fraction  temp (C)      k      cp   dens     visc  \\\n",
      "41  Ethanole 2, 4 %      0.24       0.0  0.428  4295.3  972.3  0.00579   \n",
      "\n",
      "    fryspunk         Pr  \n",
      "41     -14.6  58.106979  \n",
      "58.106978971962626\n"
     ]
    }
   ],
   "source": [
    "df = pd.read_excel(\"Kollektorvæskedata.xlsx\", sheet_name=\"Sheet1\")\n",
    "vaeske = 'Ethanole 2, 4 %'\n",
    "fraksjon = 0.24\n",
    "vaesketemp = 0\n",
    "\n",
    "riktig_rad = df[df['Cooling liquid'].str.contains(vaeske)] \n",
    "riktig_rad = riktig_rad.loc[riktig_rad['fraction']==fraksjon]\n",
    "riktig_rad = riktig_rad.loc[riktig_rad['temp (C)']==vaesketemp]\n",
    "\n",
    "print(riktig_rad)\n",
    "\n",
    "k = riktig_rad.iloc[0,3]\n",
    "cp = riktig_rad.iloc[0,4]\n",
    "tetthet = riktig_rad.iloc[0,5]\n",
    "viskositet = riktig_rad.iloc[0,6]\n",
    "Pr = riktig_rad.iloc[0,8]"
   ]
  },
  {
   "cell_type": "code",
   "execution_count": 67,
   "metadata": {},
   "outputs": [],
   "source": [
    "antall_bronner = 9\n",
    "volstrom = (150/3.6)/60\n",
    "ruhet = 0.0000015"
   ]
  },
  {
   "cell_type": "code",
   "execution_count": 68,
   "metadata": {},
   "outputs": [],
   "source": [
    "rordata = np.array([[32,2.0],[40,2.4],[50,3.0],[63,3.8],[75,4.5],[90,5.4],[110,6.6],[125,7.4],[140,8.3],[160,9.5],[180,10.7],[200,11.9],[225,13.4],[250,14.8],[280,16.6],\n",
    "                    [315,18.7],[355,21.1],[400,23.7],[450,26.7],[500,29.7],[560,33.2],[600,35.6],[630,37.4],[710,42.1],[800,47.4],[900,53.3],[1000,59.3],[1100,65.2],[1200,70.6],\n",
    "                    [1400,82.4],[1600,94.1],[1800,105.9],[2000,117.6]])"
   ]
  },
  {
   "cell_type": "code",
   "execution_count": 69,
   "metadata": {},
   "outputs": [],
   "source": [
    "def trykktapsfunksjon(volstrom,tetthet,diam_ytre,veggtykkelse,viskositet,ruhet,lengde):\n",
    "    massestrom = volstrom*tetthet/1000\n",
    "    diam_indre = (diam_ytre-2*veggtykkelse)/1000\n",
    "    Re = (4*massestrom)/(viskositet*np.pi*diam_indre)\n",
    "    frikfaktor = (1/(-1.8*np.log10(6.9/Re)+((ruhet/diam_indre)/3.7)**1.11))**2\n",
    "    hast = massestrom/(tetthet*np.pi*(diam_indre/2)**2)\n",
    "    trykktap = frikfaktor*lengde/diam_indre*(tetthet*hast**2)/2\n",
    "    return Re,trykktap\n",
    "\n",
    "def trykktapsfunksjon_VP(volstrom,tetthet,diam_ytre,veggtykkelse,viskositet,lengde):\n",
    "    massestrom = volstrom*tetthet/1000\n",
    "    diam_indre = (diam_ytre-2*veggtykkelse)/1000\n",
    "    Re = (4*massestrom)/(viskositet*np.pi*diam_indre)\n",
    "    frikfaktor = 64/Re\n",
    "    hast = massestrom/(tetthet*np.pi*(diam_indre/2)**2)\n",
    "    trykktap = frikfaktor*lengde/diam_indre*(tetthet*hast**2)/2\n",
    "    return trykktap"
   ]
  },
  {
   "cell_type": "code",
   "execution_count": 80,
   "metadata": {},
   "outputs": [
    {
     "name": "stdout",
     "output_type": "stream",
     "text": [
      "564187.5736944089\n",
      "193346.5007625544\n",
      "68233.12677982128\n",
      "50.0\n",
      "3.0\n",
      "68233.12677982128\n"
     ]
    }
   ],
   "source": [
    "trykktapsgrense = 100000        # Pa\n",
    "lengde_bronn = 640\n",
    "for i in range(0,len(rordata)):\n",
    "    veggtykkelse_bronn = rordata[i,1]    # mm\n",
    "    diam_ytre_bronn = rordata[i,0]        # mm\n",
    "    [Re_bronn, trykktap_bronn] = trykktapsfunksjon(volstrom,tetthet,diam_ytre_bronn,veggtykkelse_bronn,viskositet,ruhet,lengde_bronn)\n",
    "    if trykktap_bronn <= trykktapsgrense:\n",
    "        print(diam_ytre_bronn)\n",
    "        print(veggtykkelse_bronn)\n",
    "        print(trykktap_bronn)\n",
    "        break\n",
    "    "
   ]
  },
  {
   "cell_type": "code",
   "execution_count": 71,
   "metadata": {},
   "outputs": [
    {
     "name": "stdout",
     "output_type": "stream",
     "text": [
      "33231.429818564044\n"
     ]
    }
   ],
   "source": [
    "lengde_trase = 110\n",
    "veggtykkelse_trase = 2.4    # mm\n",
    "diam_ytre_trase = 40        # mm\n",
    "\n",
    "[Re_trase, trykktap_trase] = trykktapsfunksjon(volstrom,tetthet,diam_ytre_trase,veggtykkelse_trase,viskositet,ruhet,lengde_trase)\n",
    "\n",
    "print(trykktap_trase)"
   ]
  },
  {
   "cell_type": "code",
   "execution_count": 72,
   "metadata": {},
   "outputs": [
    {
     "name": "stdout",
     "output_type": "stream",
     "text": [
      "166.83884351169075\n"
     ]
    }
   ],
   "source": [
    "lengde_ledning = 110\n",
    "volstrom_ledning = antall_bronner*volstrom\n",
    "veggtykkelse_ledning = 7.4    # mm\n",
    "diam_ytre_ledning = 125        # mm\n",
    "\n",
    "[Re_ledning, trykktap_ledning] = trykktapsfunksjon(volstrom,tetthet,diam_ytre_ledning,veggtykkelse_ledning,viskositet,ruhet,lengde_ledning)\n",
    "\n",
    "print(trykktap_ledning)"
   ]
  },
  {
   "cell_type": "code",
   "execution_count": 73,
   "metadata": {},
   "outputs": [
    {
     "name": "stdout",
     "output_type": "stream",
     "text": [
      "1443.5107207544524\n"
     ]
    }
   ],
   "source": [
    "trykktap_VP = trykktapsfunksjon_VP(volstrom_ledning,tetthet,diam_ytre_ledning,veggtykkelse_ledning,viskositet,lengde_ledning)\n",
    "\n",
    "print(trykktap_VP)"
   ]
  },
  {
   "cell_type": "code",
   "execution_count": 74,
   "metadata": {},
   "outputs": [
    {
     "name": "stdout",
     "output_type": "stream",
     "text": [
      "34841.78405677859\n"
     ]
    }
   ],
   "source": [
    "trykktap_tot = trykktap_bronn+trykktap_trase+trykktap_ledning+trykktap_VP\n",
    "\n",
    "print(trykktap_tot)"
   ]
  },
  {
   "cell_type": "code",
   "execution_count": 75,
   "metadata": {},
   "outputs": [
    {
     "name": "stdout",
     "output_type": "stream",
     "text": [
      "-69.26636955179227\n",
      "-14.679069703292333\n",
      "-0.012287289746385367\n"
     ]
    }
   ],
   "source": [
    "def Nusselt(Re,Pr):\n",
    "    teller = (1/(0.79*np.log(Re)-1.64)**2)/(8)*(Re-1000)*Pr\n",
    "    nevner = 1+12.7*((1/(0.79*np.log(Re)-1.64)**2)/(8))**(1/2)*Pr**(2/3)-1\n",
    "    Nu = teller/nevner                                                      #Kun hvis Re > 2300 \n",
    "    return Nu\n",
    "\n",
    "Nu = Nusselt(Re_bronn,Pr)\n",
    "h = (Nu*k)/((diam_ytre_bronn-2*veggtykkelse_bronn)/1000)\n",
    "R_konv = 1/(np.pi*((diam_ytre_bronn-2*veggtykkelse_bronn)/1000)*h)\n",
    "R_ror = 1/(2*np.pi*0.42)*np.log(0.02/0.0176)\n",
    "\n",
    "print(Nu)\n",
    "print(h)\n",
    "print(R_konv)"
   ]
  },
  {
   "cell_type": "code",
   "execution_count": null,
   "metadata": {},
   "outputs": [],
   "source": []
  }
 ],
 "metadata": {
  "kernelspec": {
   "display_name": "Python 3",
   "language": "python",
   "name": "python3"
  },
  "language_info": {
   "codemirror_mode": {
    "name": "ipython",
    "version": 3
   },
   "file_extension": ".py",
   "mimetype": "text/x-python",
   "name": "python",
   "nbconvert_exporter": "python",
   "pygments_lexer": "ipython3",
   "version": "3.11.3"
  },
  "orig_nbformat": 4
 },
 "nbformat": 4,
 "nbformat_minor": 2
}
